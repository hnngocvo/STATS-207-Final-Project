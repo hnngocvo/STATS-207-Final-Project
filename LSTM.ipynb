{
 "cells": [
  {
   "cell_type": "code",
   "execution_count": 27,
   "metadata": {},
   "outputs": [],
   "source": [
    "import pandas as pd\n",
    "import matplotlib.pyplot as plt\n",
    "import numpy as np\n",
    "from pathlib import Path\n",
    "from sklearn.model_selection import TimeSeriesSplit\n",
    "from sklearn.preprocessing import MinMaxScaler\n",
    "from keras.models import Sequential, Model\n",
    "from keras.layers import Input, LSTM, Dense\n",
    "from sklearn.metrics import mean_squared_error"
   ]
  },
  {
   "cell_type": "code",
   "execution_count": 3,
   "metadata": {},
   "outputs": [],
   "source": [
    "root_path = Path(\"/Users/adminnistrator/Documents/Stanford/STATS 207/STATS-207-Final-Project\")"
   ]
  },
  {
   "cell_type": "code",
   "execution_count": 4,
   "metadata": {},
   "outputs": [],
   "source": [
    "electricity_data = pd.read_csv(root_path / \"clean_data.csv\")\n",
    "\n",
    "# Aggregate the data: compute the monthly average electricity price at the national level\n",
    "electricity_data['date'] = pd.to_datetime(\n",
    "    electricity_data[['year', 'month']].assign(day=1)\n",
    ")  # Create a date column for time series analysis\n",
    "\n",
    "# Calculate the monthly average price\n",
    "national_avg_price = electricity_data.groupby('date')['price'].mean().reset_index()\n",
    "\n",
    "national_avg_price.to_csv(root_path / \"national_avg_price.csv\", index = False)"
   ]
  },
  {
   "cell_type": "code",
   "execution_count": 10,
   "metadata": {},
   "outputs": [
    {
     "data": {
      "text/html": [
       "<div>\n",
       "<style scoped>\n",
       "    .dataframe tbody tr th:only-of-type {\n",
       "        vertical-align: middle;\n",
       "    }\n",
       "\n",
       "    .dataframe tbody tr th {\n",
       "        vertical-align: top;\n",
       "    }\n",
       "\n",
       "    .dataframe thead th {\n",
       "        text-align: right;\n",
       "    }\n",
       "</style>\n",
       "<table border=\"1\" class=\"dataframe\">\n",
       "  <thead>\n",
       "    <tr style=\"text-align: right;\">\n",
       "      <th></th>\n",
       "      <th>price</th>\n",
       "    </tr>\n",
       "    <tr>\n",
       "      <th>date</th>\n",
       "      <th></th>\n",
       "    </tr>\n",
       "  </thead>\n",
       "  <tbody>\n",
       "    <tr>\n",
       "      <th>2001-01-01</th>\n",
       "      <td>7.136839</td>\n",
       "    </tr>\n",
       "    <tr>\n",
       "      <th>2001-02-01</th>\n",
       "      <td>7.271097</td>\n",
       "    </tr>\n",
       "    <tr>\n",
       "      <th>2001-03-01</th>\n",
       "      <td>7.443806</td>\n",
       "    </tr>\n",
       "    <tr>\n",
       "      <th>2001-04-01</th>\n",
       "      <td>7.544065</td>\n",
       "    </tr>\n",
       "    <tr>\n",
       "      <th>2001-05-01</th>\n",
       "      <td>7.675194</td>\n",
       "    </tr>\n",
       "  </tbody>\n",
       "</table>\n",
       "</div>"
      ],
      "text/plain": [
       "               price\n",
       "date                \n",
       "2001-01-01  7.136839\n",
       "2001-02-01  7.271097\n",
       "2001-03-01  7.443806\n",
       "2001-04-01  7.544065\n",
       "2001-05-01  7.675194"
      ]
     },
     "execution_count": 10,
     "metadata": {},
     "output_type": "execute_result"
    }
   ],
   "source": [
    "national_avg_price['date'] = pd.to_datetime(national_avg_price['date'])\n",
    "national_avg_price.set_index('date', inplace=True)\n",
    "national_avg_price.head()"
   ]
  },
  {
   "cell_type": "code",
   "execution_count": 28,
   "metadata": {},
   "outputs": [],
   "source": [
    "def create_lagged_features(data, lag=1):\n",
    "    \"\"\"\n",
    "    Create lagged features for supervised learning.\n",
    "    :param data: Input time series (numpy array or pandas Series).\n",
    "    :param lag: Number of lagged observations to include.\n",
    "    :return: Feature matrix X and target vector y.\n",
    "    \"\"\"\n",
    "    X, y = [], []\n",
    "    for i in range(len(data) - lag):\n",
    "        X.append(data[i:i + lag])\n",
    "        y.append(data[i + lag])\n",
    "    return np.array(X), np.array(y)\n",
    "\n",
    "# Function to create and compile LSTM model\n",
    "def create_lstm_model(input_shape):\n",
    "    # Use the Input layer to specify the input shape\n",
    "    inputs = Input(shape=input_shape)\n",
    "    x = LSTM(50, activation='relu')(inputs)  # Add LSTM layer after Input\n",
    "    outputs = Dense(1)(x)  # Output layer\n",
    "    model = Model(inputs=inputs, outputs=outputs)  # Create the model\n",
    "    model.compile(optimizer='adam', loss='mean_squared_error')\n",
    "    return model"
   ]
  },
  {
   "cell_type": "code",
   "execution_count": null,
   "metadata": {},
   "outputs": [],
   "source": [
    "# 2. Normalize the data\n",
    "scaler = MinMaxScaler(feature_range=(0, 1))\n",
    "data_normalized = scaler.fit_transform(national_avg_price)\n",
    "\n",
    "# Create lagged features with a window size of 12\n",
    "X, y = create_lagged_features(data_normalized, lag)\n",
    "\n",
    "# Reshape X for LSTM (samples, timesteps, features)\n",
    "X = X.reshape((X.shape[0], X.shape[1], 1))"
   ]
  },
  {
   "cell_type": "code",
   "execution_count": 30,
   "metadata": {},
   "outputs": [
    {
     "name": "stdout",
     "output_type": "stream",
     "text": [
      "\u001b[1m2/2\u001b[0m \u001b[32m━━━━━━━━━━━━━━━━━━━━\u001b[0m\u001b[37m\u001b[0m \u001b[1m0s\u001b[0m 76ms/step\n",
      "\u001b[1m2/2\u001b[0m \u001b[32m━━━━━━━━━━━━━━━━━━━━\u001b[0m\u001b[37m\u001b[0m \u001b[1m0s\u001b[0m 76ms/step\n",
      "\u001b[1m2/2\u001b[0m \u001b[32m━━━━━━━━━━━━━━━━━━━━\u001b[0m\u001b[37m\u001b[0m \u001b[1m0s\u001b[0m 76ms/step\n",
      "\u001b[1m2/2\u001b[0m \u001b[32m━━━━━━━━━━━━━━━━━━━━\u001b[0m\u001b[37m\u001b[0m \u001b[1m0s\u001b[0m 74ms/step\n",
      "\u001b[1m2/2\u001b[0m \u001b[32m━━━━━━━━━━━━━━━━━━━━\u001b[0m\u001b[37m\u001b[0m \u001b[1m0s\u001b[0m 75ms/step\n",
      "Cross-validation losses: [0.014076460152864456, 0.014076460152864456, 0.0019427213119342923, 0.0019427213119342923, 0.001077650929801166, 0.001077650929801166, 0.0009068173822015524, 0.0009068173822015524, 0.004165248014032841, 0.004165248014032841]\n",
      "Mean loss: 0.004433779558166861\n",
      "Cross-validation RMSE values: [0.11864426380840773, 0.044076314062877056, 0.03282759495483703, 0.030113409387336726, 0.06453873279677005]\n",
      "Average RMSE: 0.058040063002045714\n"
     ]
    }
   ],
   "source": [
    "tscv = TimeSeriesSplit(n_splits=5)\n",
    "\n",
    "# 4. Train and evaluate the model using cross-validation\n",
    "results = []\n",
    "rmse_values = []\n",
    "\n",
    "for train_index, test_index in tscv.split(X):\n",
    "    X_train, X_test = X[train_index], X[test_index]\n",
    "    y_train, y_test = y[train_index], y[test_index]\n",
    "\n",
    "    # Create and train the LSTM model\n",
    "    model = create_lstm_model((X_train.shape[1], X_train.shape[2]))\n",
    "    model.fit(X_train, y_train, epochs=50, batch_size=32, verbose=0)\n",
    "\n",
    "    # Evaluate the model\n",
    "    loss = model.evaluate(X_test, y_test, verbose=0)\n",
    "    results.append(loss)\n",
    "\n",
    "    # Make predictions\n",
    "    y_pred = model.predict(X_test)\n",
    "\n",
    "    # Compute RMSE\n",
    "    rmse = np.sqrt(mean_squared_error(y_test, y_pred))\n",
    "    rmse_values.append(rmse)\n",
    "    results.append(model.evaluate(X_test, y_test, verbose=0))\n",
    "\n",
    "# Print cross-validation results\n",
    "print(f\"Cross-validation losses: {results}\")\n",
    "print(f\"Mean loss: {np.mean(results)}\")\n",
    "print(f\"Cross-validation RMSE values: {rmse_values}\")\n",
    "print(f\"Average RMSE: {np.mean(rmse_values)}\")"
   ]
  }
 ],
 "metadata": {
  "kernelspec": {
   "display_name": "base",
   "language": "python",
   "name": "python3"
  },
  "language_info": {
   "codemirror_mode": {
    "name": "ipython",
    "version": 3
   },
   "file_extension": ".py",
   "mimetype": "text/x-python",
   "name": "python",
   "nbconvert_exporter": "python",
   "pygments_lexer": "ipython3",
   "version": "3.12.2"
  }
 },
 "nbformat": 4,
 "nbformat_minor": 2
}
